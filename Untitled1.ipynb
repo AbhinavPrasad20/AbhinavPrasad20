{
  "nbformat": 4,
  "nbformat_minor": 0,
  "metadata": {
    "colab": {
      "provenance": [],
      "authorship_tag": "ABX9TyMWcblUiv3b5Uv+e7l7Uwyy",
      "include_colab_link": true
    },
    "kernelspec": {
      "name": "python3",
      "display_name": "Python 3"
    },
    "language_info": {
      "name": "python"
    }
  },
  "cells": [
    {
      "cell_type": "markdown",
      "metadata": {
        "id": "view-in-github",
        "colab_type": "text"
      },
      "source": [
        "<a href=\"https://colab.research.google.com/github/AbhinavPrasad20/AbhinavPrasad20/blob/main/Untitled1.ipynb\" target=\"_parent\"><img src=\"https://colab.research.google.com/assets/colab-badge.svg\" alt=\"Open In Colab\"/></a>"
      ]
    },
    {
      "cell_type": "code",
      "execution_count": 3,
      "metadata": {
        "colab": {
          "base_uri": "https://localhost:8080/"
        },
        "id": "f6wr0yVhFQgt",
        "outputId": "6f940d1a-c1cb-4be5-ea87-880693d775a6"
      },
      "outputs": [
        {
          "output_type": "stream",
          "name": "stdout",
          "text": [
            "Requirement already satisfied: requests in /usr/local/lib/python3.11/dist-packages (2.32.3)\n",
            "Requirement already satisfied: charset-normalizer<4,>=2 in /usr/local/lib/python3.11/dist-packages (from requests) (3.4.2)\n",
            "Requirement already satisfied: idna<4,>=2.5 in /usr/local/lib/python3.11/dist-packages (from requests) (3.10)\n",
            "Requirement already satisfied: urllib3<3,>=1.21.1 in /usr/local/lib/python3.11/dist-packages (from requests) (2.4.0)\n",
            "Requirement already satisfied: certifi>=2017.4.17 in /usr/local/lib/python3.11/dist-packages (from requests) (2025.6.15)\n",
            "1. New street food restaurant opens in Coventry - menu, prices and opening times\n",
            "   https://www.coventrytelegraph.net/whats-on/new-street-food-restaurant-opens-31880970\n",
            "\n",
            "2. Popular Restaurant Closes Location: 'We Will Miss You'\n",
            "   https://patch.com/maryland/perryhall/dairy-queen-closes-rosedale-restaurant-we-will-miss-you\n",
            "\n",
            "3. Ninja's 'ultimate all-in-one' Woodfire BBQ is now reduced by £70 for easy outdoor cooking\n",
            "   https://talksport.com/shopping/3294002/ninja-woodfire-bbq-grill-smoker-deal/\n",
            "\n",
            "4. McDonald's axes four menu items including burger and McFlurry\n",
            "   https://www.birminghammail.co.uk/whats-on/shopping/mcdonalds-axes-four-menu-items-31872736\n",
            "\n",
            "5. Birmingham cafe selling £12 burgers for £1 each and there's only one rule\n",
            "   https://www.birminghammail.co.uk/whats-on/food-drink-news/birmingham-cafe-selling-12-burgers-31865828\n",
            "\n",
            "6. Rooftop beer garden with golden hour views and big burgers opens in city centre\n",
            "   https://www.liverpoolecho.co.uk/whats-on/food-drink-news/rooftop-beer-garden-golden-hour-31865121\n",
            "\n",
            "7. Steaks, burgers and grilled delights for dads\n",
            "   https://www.manilatimes.net/2025/06/15/the-sunday-times/places-and-palates/steaks-burgers-and-grilled-delights-for-dads/2133538\n",
            "\n",
            "8. Leadbetters launches 'highly-anticipated' Muskoka Burger Series\n",
            "   https://www.bradfordtoday.ca/local-news/leadbetters-launches-highly-anticipated-muskoka-burger-series-10787666\n",
            "\n",
            "9. Drones in Dublin 'delivering burgers and lattes for profit', as Dáil hears of 'dystopian future'\n",
            "   https://www.thejournal.ie/call-for-regulations-drone-deliveries-noise-privacy-6729794-Jun2025/\n",
            "\n",
            "10. Old County Burger opens in Pine\n",
            "   https://www.paysonroundup.com/news/old-county-burger-opens-in-pine/article_563d6b78-d6a7-4a29-9473-817ee354a7bb.html\n",
            "\n"
          ]
        }
      ],
      "source": [
        "# Install necessary libraries\n",
        "!pip install requests\n",
        "\n",
        "# Import required libraries\n",
        "import requests\n",
        "import json\n",
        "\n",
        "# Define the API key and base URL\n",
        "API_KEY = '30af7d389bb77bf04e708e6677e7fba9'  # Replace with your GNews API key\n",
        "BASE_URL = 'https://gnews.io/api/v4/search'\n",
        "\n",
        "# Define the parameters for the search\n",
        "params = {\n",
        "    'q': 'burgers',  # Search query\n",
        "    'lang': 'en',                    # Language: English\n",
        "    'country': 'qa',                # Country: United States\n",
        "    'max': 10,                      # Maximum number of articles\n",
        "    'apikey': API_KEY               # API key\n",
        "}\n",
        "\n",
        "# Make the GET request\n",
        "response = requests.get(BASE_URL, params=params)\n",
        "\n",
        "# Check for successful request\n",
        "if response.status_code == 200:\n",
        "    data = response.json()\n",
        "    # Print each article's title and URL\n",
        "    for idx, article in enumerate(data.get('articles', [])):\n",
        "        print(f\"{idx + 1}. {article['title']}\")\n",
        "        print(f\"   {article['url']}\\n\")\n",
        "else:\n",
        "    print(f\"Failed to fetch news. Status code: {response.status_code}\")\n",
        "    print(response.text)"
      ]
    },
    {
      "cell_type": "code",
      "source": [
        "# Install necessary libraries\n",
        "!pip install requests lxml[html_clean] newspaper3k\n",
        "\n",
        "# Import libraries\n",
        "import requests\n",
        "from newspaper import Article\n",
        "\n",
        "# GNews API setup\n",
        "API_KEY = '30af7d389bb77bf04e708e6677e7fba9'  # Replace with your actual GNews API key\n",
        "BASE_URL = 'https://gnews.io/api/v4/search'\n",
        "\n",
        "# Define search parameters\n",
        "params = {\n",
        "    'q': 'war',  # Keyword to search\n",
        "    'lang': 'en',\n",
        "    'country': 'us',\n",
        "    'max': 1,\n",
        "    'apikey': API_KEY\n",
        "}\n",
        "\n",
        "# Make the API call\n",
        "response = requests.get(BASE_URL, params=params)\n",
        "\n",
        "# Handle response\n",
        "if response.status_code == 200:\n",
        "    articles = response.json().get('articles', [])\n",
        "    for i, item in enumerate(articles):\n",
        "        print(f\"{i+1}. {item['title']}\")\n",
        "        print(f\"URL: {item['url']}\")\n",
        "        try:\n",
        "            article = Article(item['url'])\n",
        "            article.download()\n",
        "            article.parse()\n",
        "            print(f\"Content:\\n{article.text[:500]}...\\n\")  # Print first 500 characters\n",
        "        except Exception as e:\n",
        "            print(f\"Could not extract article content: {e}\\n\")\n",
        "else:\n",
        "    print(f\"Error: {response.status_code} - {response.text}\")\n",
        "\n",
        "\n",
        "print(response.status_code)\n",
        "print(response.text)\n"
      ],
      "metadata": {
        "colab": {
          "base_uri": "https://localhost:8080/"
        },
        "id": "oaEzp7SoIAny",
        "outputId": "b049d645-258b-444b-cd26-ad2436213aad"
      },
      "execution_count": 9,
      "outputs": [
        {
          "output_type": "stream",
          "name": "stdout",
          "text": [
            "Requirement already satisfied: requests in /usr/local/lib/python3.11/dist-packages (2.32.3)\n",
            "Requirement already satisfied: newspaper3k in /usr/local/lib/python3.11/dist-packages (0.2.8)\n",
            "Requirement already satisfied: lxml[html_clean] in /usr/local/lib/python3.11/dist-packages (5.4.0)\n",
            "Requirement already satisfied: charset-normalizer<4,>=2 in /usr/local/lib/python3.11/dist-packages (from requests) (3.4.2)\n",
            "Requirement already satisfied: idna<4,>=2.5 in /usr/local/lib/python3.11/dist-packages (from requests) (3.10)\n",
            "Requirement already satisfied: urllib3<3,>=1.21.1 in /usr/local/lib/python3.11/dist-packages (from requests) (2.4.0)\n",
            "Requirement already satisfied: certifi>=2017.4.17 in /usr/local/lib/python3.11/dist-packages (from requests) (2025.6.15)\n",
            "Requirement already satisfied: lxml_html_clean in /usr/local/lib/python3.11/dist-packages (from lxml[html_clean]) (0.4.2)\n",
            "Requirement already satisfied: beautifulsoup4>=4.4.1 in /usr/local/lib/python3.11/dist-packages (from newspaper3k) (4.13.4)\n",
            "Requirement already satisfied: Pillow>=3.3.0 in /usr/local/lib/python3.11/dist-packages (from newspaper3k) (11.2.1)\n",
            "Requirement already satisfied: PyYAML>=3.11 in /usr/local/lib/python3.11/dist-packages (from newspaper3k) (6.0.2)\n",
            "Requirement already satisfied: cssselect>=0.9.2 in /usr/local/lib/python3.11/dist-packages (from newspaper3k) (1.3.0)\n",
            "Requirement already satisfied: nltk>=3.2.1 in /usr/local/lib/python3.11/dist-packages (from newspaper3k) (3.9.1)\n",
            "Requirement already satisfied: feedparser>=5.2.1 in /usr/local/lib/python3.11/dist-packages (from newspaper3k) (6.0.11)\n",
            "Requirement already satisfied: tldextract>=2.0.1 in /usr/local/lib/python3.11/dist-packages (from newspaper3k) (5.3.0)\n",
            "Requirement already satisfied: feedfinder2>=0.0.4 in /usr/local/lib/python3.11/dist-packages (from newspaper3k) (0.0.4)\n",
            "Requirement already satisfied: jieba3k>=0.35.1 in /usr/local/lib/python3.11/dist-packages (from newspaper3k) (0.35.1)\n",
            "Requirement already satisfied: python-dateutil>=2.5.3 in /usr/local/lib/python3.11/dist-packages (from newspaper3k) (2.9.0.post0)\n",
            "Requirement already satisfied: tinysegmenter==0.3 in /usr/local/lib/python3.11/dist-packages (from newspaper3k) (0.3)\n",
            "Requirement already satisfied: soupsieve>1.2 in /usr/local/lib/python3.11/dist-packages (from beautifulsoup4>=4.4.1->newspaper3k) (2.7)\n",
            "Requirement already satisfied: typing-extensions>=4.0.0 in /usr/local/lib/python3.11/dist-packages (from beautifulsoup4>=4.4.1->newspaper3k) (4.14.0)\n",
            "Requirement already satisfied: six in /usr/local/lib/python3.11/dist-packages (from feedfinder2>=0.0.4->newspaper3k) (1.17.0)\n",
            "Requirement already satisfied: sgmllib3k in /usr/local/lib/python3.11/dist-packages (from feedparser>=5.2.1->newspaper3k) (1.0.0)\n",
            "Requirement already satisfied: click in /usr/local/lib/python3.11/dist-packages (from nltk>=3.2.1->newspaper3k) (8.2.1)\n",
            "Requirement already satisfied: joblib in /usr/local/lib/python3.11/dist-packages (from nltk>=3.2.1->newspaper3k) (1.5.1)\n",
            "Requirement already satisfied: regex>=2021.8.3 in /usr/local/lib/python3.11/dist-packages (from nltk>=3.2.1->newspaper3k) (2024.11.6)\n",
            "Requirement already satisfied: tqdm in /usr/local/lib/python3.11/dist-packages (from nltk>=3.2.1->newspaper3k) (4.67.1)\n",
            "Requirement already satisfied: requests-file>=1.4 in /usr/local/lib/python3.11/dist-packages (from tldextract>=2.0.1->newspaper3k) (2.1.0)\n",
            "Requirement already satisfied: filelock>=3.0.8 in /usr/local/lib/python3.11/dist-packages (from tldextract>=2.0.1->newspaper3k) (3.18.0)\n",
            "1. Iran started this war. Israel should be allowed to end it\n",
            "URL: https://www.washingtonexaminer.com/opinion/editorials/3444986/iran-war-started-israel-should-be-allowed-to-end-it/\n",
            "Content:\n",
            "According to isolationists on the Left and Right, Israel’s recent attack on Iran is an escalation or the opening salvo in a “new” war between the nations.\n",
            "\n",
            "Sen. Bernie Sanders (I-VT) posted on June 16, “Netanyahu started this war by attacking Iran.” President Donald Trump’s former strategist Steve Bannon said the same thing, claiming on his podcast that “[Netanyahu] pulled the trigger first.”\n",
            "\n",
            "Both men and other isolationists disingenuously ignore the fact that Iran started the latest war throug...\n",
            "\n",
            "200\n",
            "{\"totalArticles\":58158,\"articles\":[{\"title\":\"Iran started this war. Israel should be allowed to end it\",\"description\":\"Americans are wary of entering into military conflicts following the Iraq and Afghanistan wars, but the stakes with Iran’s nuclear program are urgent.\",\"content\":\"According to isolationists on the Left and Right, Israel’s recent attack on Iran is an escalation or the opening salvo in a “new” war between the nations.\\nSen. Bernie Sanders (I-VT) posted on June 16, “Netanyahu started this war by attacking Iran.” P... [4511 chars]\",\"url\":\"https://www.washingtonexaminer.com/opinion/editorials/3444986/iran-war-started-israel-should-be-allowed-to-end-it/\",\"image\":\"https://www.washingtonexaminer.com/wp-content/uploads/2025/06/APTehran06162025-scaled.webp\",\"publishedAt\":\"2025-06-20T04:01:00Z\",\"source\":{\"name\":\"Washington Examiner\",\"url\":\"https://www.washingtonexaminer.com\"}}]}\n"
          ]
        }
      ]
    }
  ]
}